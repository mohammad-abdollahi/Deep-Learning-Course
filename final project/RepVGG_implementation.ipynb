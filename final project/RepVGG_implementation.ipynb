{
  "nbformat": 4,
  "nbformat_minor": 0,
  "metadata": {
    "colab": {
      "provenance": []
    },
    "kernelspec": {
      "name": "python3",
      "display_name": "Python 3"
    },
    "language_info": {
      "name": "python"
    },
    "accelerator": "GPU",
    "gpuClass": "standard",
    "widgets": {
      "application/vnd.jupyter.widget-state+json": {
        "1f0a33a09bdd432ebafe07e2116111dc": {
          "model_module": "@jupyter-widgets/controls",
          "model_name": "HBoxModel",
          "model_module_version": "1.5.0",
          "state": {
            "_dom_classes": [],
            "_model_module": "@jupyter-widgets/controls",
            "_model_module_version": "1.5.0",
            "_model_name": "HBoxModel",
            "_view_count": null,
            "_view_module": "@jupyter-widgets/controls",
            "_view_module_version": "1.5.0",
            "_view_name": "HBoxView",
            "box_style": "",
            "children": [
              "IPY_MODEL_6beab50cee384b318c8014b1ae176753",
              "IPY_MODEL_e898dcb328d04cc7877caa98d284fc15",
              "IPY_MODEL_6f7365aa813246d6be989792f68bd81a"
            ],
            "layout": "IPY_MODEL_231c2cf6d50f4098a16bf9f42406dd31"
          }
        },
        "6beab50cee384b318c8014b1ae176753": {
          "model_module": "@jupyter-widgets/controls",
          "model_name": "HTMLModel",
          "model_module_version": "1.5.0",
          "state": {
            "_dom_classes": [],
            "_model_module": "@jupyter-widgets/controls",
            "_model_module_version": "1.5.0",
            "_model_name": "HTMLModel",
            "_view_count": null,
            "_view_module": "@jupyter-widgets/controls",
            "_view_module_version": "1.5.0",
            "_view_name": "HTMLView",
            "description": "",
            "description_tooltip": null,
            "layout": "IPY_MODEL_8c501a53c1e54ec2bdfa343a5032abc0",
            "placeholder": "​",
            "style": "IPY_MODEL_88499bb544994e61a0b09814d9a22d81",
            "value": "100%"
          }
        },
        "e898dcb328d04cc7877caa98d284fc15": {
          "model_module": "@jupyter-widgets/controls",
          "model_name": "FloatProgressModel",
          "model_module_version": "1.5.0",
          "state": {
            "_dom_classes": [],
            "_model_module": "@jupyter-widgets/controls",
            "_model_module_version": "1.5.0",
            "_model_name": "FloatProgressModel",
            "_view_count": null,
            "_view_module": "@jupyter-widgets/controls",
            "_view_module_version": "1.5.0",
            "_view_name": "ProgressView",
            "bar_style": "success",
            "description": "",
            "description_tooltip": null,
            "layout": "IPY_MODEL_72d633472b7e42559a66a2eda9b7c08a",
            "max": 170498071,
            "min": 0,
            "orientation": "horizontal",
            "style": "IPY_MODEL_1c5693b32b2c44b98b5f25c233ce20d0",
            "value": 170498071
          }
        },
        "6f7365aa813246d6be989792f68bd81a": {
          "model_module": "@jupyter-widgets/controls",
          "model_name": "HTMLModel",
          "model_module_version": "1.5.0",
          "state": {
            "_dom_classes": [],
            "_model_module": "@jupyter-widgets/controls",
            "_model_module_version": "1.5.0",
            "_model_name": "HTMLModel",
            "_view_count": null,
            "_view_module": "@jupyter-widgets/controls",
            "_view_module_version": "1.5.0",
            "_view_name": "HTMLView",
            "description": "",
            "description_tooltip": null,
            "layout": "IPY_MODEL_5081df0a9d5c4c8db0ca0b884e94d5ff",
            "placeholder": "​",
            "style": "IPY_MODEL_52ee580a0b974eb2bcacba66681dc309",
            "value": " 170498071/170498071 [00:01&lt;00:00, 96710421.43it/s]"
          }
        },
        "231c2cf6d50f4098a16bf9f42406dd31": {
          "model_module": "@jupyter-widgets/base",
          "model_name": "LayoutModel",
          "model_module_version": "1.2.0",
          "state": {
            "_model_module": "@jupyter-widgets/base",
            "_model_module_version": "1.2.0",
            "_model_name": "LayoutModel",
            "_view_count": null,
            "_view_module": "@jupyter-widgets/base",
            "_view_module_version": "1.2.0",
            "_view_name": "LayoutView",
            "align_content": null,
            "align_items": null,
            "align_self": null,
            "border": null,
            "bottom": null,
            "display": null,
            "flex": null,
            "flex_flow": null,
            "grid_area": null,
            "grid_auto_columns": null,
            "grid_auto_flow": null,
            "grid_auto_rows": null,
            "grid_column": null,
            "grid_gap": null,
            "grid_row": null,
            "grid_template_areas": null,
            "grid_template_columns": null,
            "grid_template_rows": null,
            "height": null,
            "justify_content": null,
            "justify_items": null,
            "left": null,
            "margin": null,
            "max_height": null,
            "max_width": null,
            "min_height": null,
            "min_width": null,
            "object_fit": null,
            "object_position": null,
            "order": null,
            "overflow": null,
            "overflow_x": null,
            "overflow_y": null,
            "padding": null,
            "right": null,
            "top": null,
            "visibility": null,
            "width": null
          }
        },
        "8c501a53c1e54ec2bdfa343a5032abc0": {
          "model_module": "@jupyter-widgets/base",
          "model_name": "LayoutModel",
          "model_module_version": "1.2.0",
          "state": {
            "_model_module": "@jupyter-widgets/base",
            "_model_module_version": "1.2.0",
            "_model_name": "LayoutModel",
            "_view_count": null,
            "_view_module": "@jupyter-widgets/base",
            "_view_module_version": "1.2.0",
            "_view_name": "LayoutView",
            "align_content": null,
            "align_items": null,
            "align_self": null,
            "border": null,
            "bottom": null,
            "display": null,
            "flex": null,
            "flex_flow": null,
            "grid_area": null,
            "grid_auto_columns": null,
            "grid_auto_flow": null,
            "grid_auto_rows": null,
            "grid_column": null,
            "grid_gap": null,
            "grid_row": null,
            "grid_template_areas": null,
            "grid_template_columns": null,
            "grid_template_rows": null,
            "height": null,
            "justify_content": null,
            "justify_items": null,
            "left": null,
            "margin": null,
            "max_height": null,
            "max_width": null,
            "min_height": null,
            "min_width": null,
            "object_fit": null,
            "object_position": null,
            "order": null,
            "overflow": null,
            "overflow_x": null,
            "overflow_y": null,
            "padding": null,
            "right": null,
            "top": null,
            "visibility": null,
            "width": null
          }
        },
        "88499bb544994e61a0b09814d9a22d81": {
          "model_module": "@jupyter-widgets/controls",
          "model_name": "DescriptionStyleModel",
          "model_module_version": "1.5.0",
          "state": {
            "_model_module": "@jupyter-widgets/controls",
            "_model_module_version": "1.5.0",
            "_model_name": "DescriptionStyleModel",
            "_view_count": null,
            "_view_module": "@jupyter-widgets/base",
            "_view_module_version": "1.2.0",
            "_view_name": "StyleView",
            "description_width": ""
          }
        },
        "72d633472b7e42559a66a2eda9b7c08a": {
          "model_module": "@jupyter-widgets/base",
          "model_name": "LayoutModel",
          "model_module_version": "1.2.0",
          "state": {
            "_model_module": "@jupyter-widgets/base",
            "_model_module_version": "1.2.0",
            "_model_name": "LayoutModel",
            "_view_count": null,
            "_view_module": "@jupyter-widgets/base",
            "_view_module_version": "1.2.0",
            "_view_name": "LayoutView",
            "align_content": null,
            "align_items": null,
            "align_self": null,
            "border": null,
            "bottom": null,
            "display": null,
            "flex": null,
            "flex_flow": null,
            "grid_area": null,
            "grid_auto_columns": null,
            "grid_auto_flow": null,
            "grid_auto_rows": null,
            "grid_column": null,
            "grid_gap": null,
            "grid_row": null,
            "grid_template_areas": null,
            "grid_template_columns": null,
            "grid_template_rows": null,
            "height": null,
            "justify_content": null,
            "justify_items": null,
            "left": null,
            "margin": null,
            "max_height": null,
            "max_width": null,
            "min_height": null,
            "min_width": null,
            "object_fit": null,
            "object_position": null,
            "order": null,
            "overflow": null,
            "overflow_x": null,
            "overflow_y": null,
            "padding": null,
            "right": null,
            "top": null,
            "visibility": null,
            "width": null
          }
        },
        "1c5693b32b2c44b98b5f25c233ce20d0": {
          "model_module": "@jupyter-widgets/controls",
          "model_name": "ProgressStyleModel",
          "model_module_version": "1.5.0",
          "state": {
            "_model_module": "@jupyter-widgets/controls",
            "_model_module_version": "1.5.0",
            "_model_name": "ProgressStyleModel",
            "_view_count": null,
            "_view_module": "@jupyter-widgets/base",
            "_view_module_version": "1.2.0",
            "_view_name": "StyleView",
            "bar_color": null,
            "description_width": ""
          }
        },
        "5081df0a9d5c4c8db0ca0b884e94d5ff": {
          "model_module": "@jupyter-widgets/base",
          "model_name": "LayoutModel",
          "model_module_version": "1.2.0",
          "state": {
            "_model_module": "@jupyter-widgets/base",
            "_model_module_version": "1.2.0",
            "_model_name": "LayoutModel",
            "_view_count": null,
            "_view_module": "@jupyter-widgets/base",
            "_view_module_version": "1.2.0",
            "_view_name": "LayoutView",
            "align_content": null,
            "align_items": null,
            "align_self": null,
            "border": null,
            "bottom": null,
            "display": null,
            "flex": null,
            "flex_flow": null,
            "grid_area": null,
            "grid_auto_columns": null,
            "grid_auto_flow": null,
            "grid_auto_rows": null,
            "grid_column": null,
            "grid_gap": null,
            "grid_row": null,
            "grid_template_areas": null,
            "grid_template_columns": null,
            "grid_template_rows": null,
            "height": null,
            "justify_content": null,
            "justify_items": null,
            "left": null,
            "margin": null,
            "max_height": null,
            "max_width": null,
            "min_height": null,
            "min_width": null,
            "object_fit": null,
            "object_position": null,
            "order": null,
            "overflow": null,
            "overflow_x": null,
            "overflow_y": null,
            "padding": null,
            "right": null,
            "top": null,
            "visibility": null,
            "width": null
          }
        },
        "52ee580a0b974eb2bcacba66681dc309": {
          "model_module": "@jupyter-widgets/controls",
          "model_name": "DescriptionStyleModel",
          "model_module_version": "1.5.0",
          "state": {
            "_model_module": "@jupyter-widgets/controls",
            "_model_module_version": "1.5.0",
            "_model_name": "DescriptionStyleModel",
            "_view_count": null,
            "_view_module": "@jupyter-widgets/base",
            "_view_module_version": "1.2.0",
            "_view_name": "StyleView",
            "description_width": ""
          }
        }
      }
    }
  },
  "cells": [
    {
      "cell_type": "markdown",
      "source": [
        "## RepVGG\n",
        "> I tried to implement RepVGG model and see its results on cifar10 dataset.\n",
        "\n",
        "> We've reached accuracy of 87 percent on test dataset with just 15 epochs."
      ],
      "metadata": {
        "id": "Dzi5mOKXskFW"
      }
    },
    {
      "cell_type": "code",
      "source": [
        "import torch\n",
        "import torchvision\n",
        "import numpy as np\n",
        "import torch.nn.functional as F\n",
        "import torch.optim as optim\n",
        "from torch.optim.lr_scheduler import StepLR\n",
        "from torch.utils.data import DataLoader, Dataset\n",
        "from torchvision import datasets, transforms\n",
        "from tqdm import tqdm"
      ],
      "metadata": {
        "id": "sEeud87l-eFb"
      },
      "execution_count": 1,
      "outputs": []
    },
    {
      "cell_type": "code",
      "source": [
        "train_on_gpu = torch.cuda.is_available()\n",
        "\n",
        "if not train_on_gpu:\n",
        "    print('CUDA is not available.  Training on CPU ...')\n",
        "else:\n",
        "    print('CUDA is available!  Training on GPU ...')\n",
        "device = torch.device(\"cuda:0\" if torch.cuda.is_available() else \"cpu\")\n",
        "print(device)"
      ],
      "metadata": {
        "colab": {
          "base_uri": "https://localhost:8080/"
        },
        "id": "qn05X_pRFQDQ",
        "outputId": "9aa5560a-67fb-4699-9e4c-028136a0c10d"
      },
      "execution_count": 2,
      "outputs": [
        {
          "output_type": "stream",
          "name": "stdout",
          "text": [
            "CUDA is available!  Training on GPU ...\n",
            "cuda:0\n"
          ]
        }
      ]
    },
    {
      "cell_type": "code",
      "source": [
        "transform = transforms.Compose(\n",
        "        [\n",
        "            transforms.Pad(4),\n",
        "            transforms.RandomHorizontalFlip(),\n",
        "            transforms.RandomCrop(32),\n",
        "            transforms.ToTensor(),\n",
        "            transforms.Normalize((0.4914, 0.4822, 0.4465), (0.2023, 0.1994, 0.2010)),\n",
        "        ]\n",
        "    )\n",
        "test_transform = transforms.Compose(\n",
        "    [\n",
        "        transforms.ToTensor(),\n",
        "        transforms.Normalize(mean=(0.5, 0.5, 0.5), std=(0.5, 0.5, 0.5)),\n",
        "    ]\n",
        ")\n",
        "\n",
        "train_dataset = torchvision.datasets.CIFAR10(\n",
        "    root=\".\", train=True, transform=transform, download=True\n",
        ")\n",
        "test_dataset = torchvision.datasets.CIFAR10(\n",
        "    root=\".\", train=False, transform=test_transform\n",
        ")\n",
        "train_loader = torch.utils.data.DataLoader(\n",
        "    dataset=train_dataset, batch_size=100, shuffle=True\n",
        ")\n",
        "test_loader = torch.utils.data.DataLoader(\n",
        "    dataset=test_dataset, batch_size=100, shuffle=False\n",
        ")"
      ],
      "metadata": {
        "id": "DAQoZ8jU-683",
        "colab": {
          "base_uri": "https://localhost:8080/",
          "height": 84,
          "referenced_widgets": [
            "1f0a33a09bdd432ebafe07e2116111dc",
            "6beab50cee384b318c8014b1ae176753",
            "e898dcb328d04cc7877caa98d284fc15",
            "6f7365aa813246d6be989792f68bd81a",
            "231c2cf6d50f4098a16bf9f42406dd31",
            "8c501a53c1e54ec2bdfa343a5032abc0",
            "88499bb544994e61a0b09814d9a22d81",
            "72d633472b7e42559a66a2eda9b7c08a",
            "1c5693b32b2c44b98b5f25c233ce20d0",
            "5081df0a9d5c4c8db0ca0b884e94d5ff",
            "52ee580a0b974eb2bcacba66681dc309"
          ]
        },
        "outputId": "de793b7b-2ce1-449c-c7bf-9b117b0fa52e"
      },
      "execution_count": 3,
      "outputs": [
        {
          "output_type": "stream",
          "name": "stdout",
          "text": [
            "Downloading https://www.cs.toronto.edu/~kriz/cifar-10-python.tar.gz to ./cifar-10-python.tar.gz\n"
          ]
        },
        {
          "output_type": "display_data",
          "data": {
            "text/plain": [
              "  0%|          | 0/170498071 [00:00<?, ?it/s]"
            ],
            "application/vnd.jupyter.widget-view+json": {
              "version_major": 2,
              "version_minor": 0,
              "model_id": "1f0a33a09bdd432ebafe07e2116111dc"
            }
          },
          "metadata": {}
        },
        {
          "output_type": "stream",
          "name": "stdout",
          "text": [
            "Extracting ./cifar-10-python.tar.gz to .\n"
          ]
        }
      ]
    },
    {
      "cell_type": "code",
      "source": [
        "def conv_batch_norm(in_channels, out_channels, kernel_size, stride, padding):\n",
        "    result = torch.nn.Sequential()\n",
        "    result.add_module('conv', torch.nn.Conv2d(in_channels=in_channels, out_channels=out_channels,\n",
        "          kernel_size=kernel_size, stride=stride, padding=padding, groups=1, bias=False))\n",
        "    result.add_module('batch_norm', torch.nn.BatchNorm2d(num_features=out_channels))\n",
        "    return result"
      ],
      "metadata": {
        "id": "TuYd0IfE-gZi"
      },
      "execution_count": 23,
      "outputs": []
    },
    {
      "cell_type": "code",
      "source": [
        "class RepVGGBlockModule(torch.nn.Module):\n",
        "\n",
        "    def __init__(self, in_channels, out_channels, kernel_size,\n",
        "                 stride=1, padding=0, dilation=1, groups=1, padding_mode='zeros'):\n",
        "        super(RepVGGBlockModule, self).__init__()\n",
        "        self.groups = groups\n",
        "        self.in_channels = in_channels\n",
        "        padding_11 = padding - kernel_size // 2\n",
        "\n",
        "        self.nonlinearity = torch.nn.ReLU()\n",
        "        self.se = torch.nn.Identity()\n",
        "        self.rbr_identity = torch.nn.BatchNorm2d(num_features=in_channels) if out_channels == in_channels and stride == 1 else None\n",
        "        self.rbr_dense = conv_batch_norm(in_channels=in_channels, out_channels=out_channels, kernel_size=kernel_size, stride=stride, padding=padding)\n",
        "        self.rbr_1x1 = conv_batch_norm(in_channels=in_channels, out_channels=out_channels, kernel_size=1, stride=stride, padding=padding_11)\n",
        "        \n",
        "\n",
        "    def forward(self, inputs):\n",
        "        if self.rbr_identity is None:\n",
        "            id_out = 0\n",
        "        else:\n",
        "            id_out = self.rbr_identity(inputs)\n",
        "\n",
        "        return self.nonlinearity(self.se(self.rbr_dense(inputs) + self.rbr_1x1(inputs) + id_out))"
      ],
      "metadata": {
        "id": "4VpLIYvW-Xdm"
      },
      "execution_count": 24,
      "outputs": []
    },
    {
      "cell_type": "code",
      "execution_count": 25,
      "metadata": {
        "id": "wm_R3oE19ns0"
      },
      "outputs": [],
      "source": [
        "class RepVGGModule(torch.nn.Module):\n",
        "    def __init__(self, num_classes=10):\n",
        "        super(RepVGGModule, self).__init__()\n",
        "        self.width_multiplier=[2.5, 2.5, 2.5, 5]\n",
        "        self.num_blocks = [4, 6, 16, 1]\n",
        "        self.override_groups_map = dict()\n",
        "        \n",
        "        self.in_planes = min(64, int(64 * self.width_multiplier[0]))\n",
        "        self.level_0 = RepVGGBlockModule(in_channels=3, out_channels=self.in_planes, kernel_size=3, stride=2, padding=1)\n",
        "        self.cur_layer_idx = 1\n",
        "        self.level_1 = self._level(int(64 * self.width_multiplier[0]), self.num_blocks[0], stride=2)\n",
        "        self.level_2 = self._level(int(128 * self.width_multiplier[1]), self.num_blocks[1], stride=2)\n",
        "        self.level_3 = self._level(int(256 * self.width_multiplier[2]), self.num_blocks[2], stride=2)\n",
        "        self.level_4 = self._level(int(512 * self.width_multiplier[3]), self.num_blocks[3], stride=2)\n",
        "        self.gap = torch.nn.AdaptiveAvgPool2d(output_size=1)\n",
        "        self.linear = torch.nn.Linear(int(512 * self.width_multiplier[3]), num_classes)\n",
        "\n",
        "    def _level(self, planes, num_blocks, stride):\n",
        "        strides = [stride] + [1]*(num_blocks-1)\n",
        "        blocks = []\n",
        "        for stride in strides:\n",
        "            cur_groups = self.override_groups_map.get(self.cur_layer_idx, 1)\n",
        "            blocks.append(RepVGGBlockModule(in_channels=self.in_planes, out_channels=planes, kernel_size=3,\n",
        "                                      stride=stride, padding=1, groups=cur_groups))\n",
        "            self.in_planes = planes\n",
        "            self.cur_layer_idx += 1\n",
        "        return torch.nn.ModuleList(blocks)\n",
        "\n",
        "    def forward(self, x):\n",
        "        out = self.level_0(x)\n",
        "        for l in (self.level_1, self.level_2, self.level_3, self.level_4):\n",
        "            for block in l:\n",
        "                out = block(out)\n",
        "        out = self.gap(out)\n",
        "        out = out.view(out.size(0), -1)\n",
        "        out = self.linear(out)\n",
        "        return out"
      ]
    },
    {
      "cell_type": "code",
      "source": [
        "model = RepVGGModule(num_classes=10).to(device)\n"
      ],
      "metadata": {
        "id": "HWEnhuV2-9ha"
      },
      "execution_count": 26,
      "outputs": []
    },
    {
      "cell_type": "code",
      "source": [
        "batch_size = 64\n",
        "epochs = 15\n",
        "lr = 3e-4\n",
        "gamma= 0.7\n",
        "seed = 42"
      ],
      "metadata": {
        "id": "ygU9SdSK9vgv"
      },
      "execution_count": 27,
      "outputs": []
    },
    {
      "cell_type": "code",
      "source": [
        "criterion = torch.nn.CrossEntropyLoss()\n",
        "\n",
        "optimizer = optim.Adam(model.parameters(), lr = lr)\n",
        "\n",
        "scheduler = StepLR(optimizer, step_size=1, gamma=gamma)\n"
      ],
      "metadata": {
        "id": "HNc7eRoCCXEf"
      },
      "execution_count": 28,
      "outputs": []
    },
    {
      "cell_type": "code",
      "source": [
        "for epoch in range(epochs):\n",
        "    epoch_loss = 0.0\n",
        "    epoch_accuracy = 0.0\n",
        "    \n",
        "    for data, label in tqdm(train_loader):\n",
        "        data = data.to(device)\n",
        "        label = label.to(device)\n",
        "        \n",
        "        output = model(data)\n",
        "        \n",
        "        label = torch.nn.functional.one_hot(label, num_classes = 10)\n",
        "        label = label.squeeze_()\n",
        "        label = torch.argmax(label, axis=1)\n",
        "        \n",
        "        label = label.type_as(output)\n",
        "        \n",
        "        loss = criterion(output, label.long())\n",
        "        \n",
        "        optimizer.zero_grad()\n",
        "        loss.backward()\n",
        "        optimizer.step()\n",
        "        \n",
        "        acc = (output.argmax(dim=1) == label).float().mean()\n",
        "        epoch_accuracy += acc / len(train_loader)\n",
        "        epoch_loss += loss / len(train_loader)\n",
        "    with torch.no_grad():\n",
        "        epoch_val_accuracy = 0\n",
        "        epoch_val_loss = 0        \n",
        "        \n",
        "        for data, label in test_loader:\n",
        "            data = data.to(device)\n",
        "            \n",
        "            label = label.to(device)\n",
        "            label = label.type_as(output)\n",
        "            \n",
        "            val_output = model(data)\n",
        "            val_loss = criterion(val_output, label.long())\n",
        "            \n",
        "            accc = (val_output.argmax(dim = 1) == label).float().mean()\n",
        "            epoch_val_accuracy += acc / len(test_loader)\n",
        "            epoch_val_loss += val_loss / len(test_loader)\n",
        "\n",
        "    print(\n",
        "        f\"Epoch: {epoch+1} - loss: {epoch_loss:.4f} - acc : {epoch_accuracy:.4f} - val_loss : {epoch_val_loss:.4f} - val_acc: {epoch_val_accuracy: .4f}\\n\"\n",
        "    )"
      ],
      "metadata": {
        "colab": {
          "base_uri": "https://localhost:8080/"
        },
        "id": "7yVpC8ItCXHI",
        "outputId": "8cb644c0-2b4f-4c52-da4b-a8a899cd5e5e"
      },
      "execution_count": null,
      "outputs": [
        {
          "output_type": "stream",
          "name": "stderr",
          "text": [
            "100%|██████████| 500/500 [01:26<00:00,  5.79it/s]\n"
          ]
        },
        {
          "output_type": "stream",
          "name": "stdout",
          "text": [
            "Epoch: 1 - loss: 1.7129 - acc : 0.3670 - val_loss : 1.3872 - val_acc:  0.4700\n",
            "\n"
          ]
        },
        {
          "output_type": "stream",
          "name": "stderr",
          "text": [
            "100%|██████████| 500/500 [01:23<00:00,  5.96it/s]\n"
          ]
        },
        {
          "output_type": "stream",
          "name": "stdout",
          "text": [
            "Epoch: 2 - loss: 1.3123 - acc : 0.5301 - val_loss : 1.1890 - val_acc:  0.5500\n",
            "\n"
          ]
        },
        {
          "output_type": "stream",
          "name": "stderr",
          "text": [
            "100%|██████████| 500/500 [01:22<00:00,  6.03it/s]\n"
          ]
        },
        {
          "output_type": "stream",
          "name": "stdout",
          "text": [
            "Epoch: 3 - loss: 1.0993 - acc : 0.6142 - val_loss : 1.0271 - val_acc:  0.6300\n",
            "\n"
          ]
        },
        {
          "output_type": "stream",
          "name": "stderr",
          "text": [
            "100%|██████████| 500/500 [01:22<00:00,  6.04it/s]\n"
          ]
        },
        {
          "output_type": "stream",
          "name": "stdout",
          "text": [
            "Epoch: 4 - loss: 0.9601 - acc : 0.6674 - val_loss : 0.8992 - val_acc:  0.6900\n",
            "\n"
          ]
        },
        {
          "output_type": "stream",
          "name": "stderr",
          "text": [
            "100%|██████████| 500/500 [01:22<00:00,  6.06it/s]\n"
          ]
        },
        {
          "output_type": "stream",
          "name": "stdout",
          "text": [
            "Epoch: 5 - loss: 0.8286 - acc : 0.7137 - val_loss : 0.8041 - val_acc:  0.6900\n",
            "\n"
          ]
        },
        {
          "output_type": "stream",
          "name": "stderr",
          "text": [
            "100%|██████████| 500/500 [01:22<00:00,  6.04it/s]\n"
          ]
        },
        {
          "output_type": "stream",
          "name": "stdout",
          "text": [
            "Epoch: 6 - loss: 0.7533 - acc : 0.7408 - val_loss : 0.7633 - val_acc:  0.7300\n",
            "\n"
          ]
        },
        {
          "output_type": "stream",
          "name": "stderr",
          "text": [
            "100%|██████████| 500/500 [01:22<00:00,  6.05it/s]\n"
          ]
        },
        {
          "output_type": "stream",
          "name": "stdout",
          "text": [
            "Epoch: 7 - loss: 0.6860 - acc : 0.7647 - val_loss : 0.7209 - val_acc:  0.8700\n",
            "\n"
          ]
        },
        {
          "output_type": "stream",
          "name": "stderr",
          "text": [
            "100%|██████████| 500/500 [01:23<00:00,  5.99it/s]\n"
          ]
        },
        {
          "output_type": "stream",
          "name": "stdout",
          "text": [
            "Epoch: 8 - loss: 0.6560 - acc : 0.7760 - val_loss : 0.6623 - val_acc:  0.8200\n",
            "\n"
          ]
        },
        {
          "output_type": "stream",
          "name": "stderr",
          "text": [
            "100%|██████████| 500/500 [01:23<00:00,  5.98it/s]\n"
          ]
        },
        {
          "output_type": "stream",
          "name": "stdout",
          "text": [
            "Epoch: 9 - loss: 0.5983 - acc : 0.7974 - val_loss : 0.6576 - val_acc:  0.7700\n",
            "\n"
          ]
        },
        {
          "output_type": "stream",
          "name": "stderr",
          "text": [
            "100%|██████████| 500/500 [01:22<00:00,  6.08it/s]\n"
          ]
        },
        {
          "output_type": "stream",
          "name": "stdout",
          "text": [
            "Epoch: 10 - loss: 0.5756 - acc : 0.8032 - val_loss : 0.6247 - val_acc:  0.8100\n",
            "\n"
          ]
        },
        {
          "output_type": "stream",
          "name": "stderr",
          "text": [
            "100%|██████████| 500/500 [01:22<00:00,  6.05it/s]\n"
          ]
        },
        {
          "output_type": "stream",
          "name": "stdout",
          "text": [
            "Epoch: 11 - loss: 0.5503 - acc : 0.8134 - val_loss : 0.6122 - val_acc:  0.8600\n",
            "\n"
          ]
        },
        {
          "output_type": "stream",
          "name": "stderr",
          "text": [
            "100%|██████████| 500/500 [01:22<00:00,  6.03it/s]\n"
          ]
        },
        {
          "output_type": "stream",
          "name": "stdout",
          "text": [
            "Epoch: 12 - loss: 0.5128 - acc : 0.8243 - val_loss : 0.6336 - val_acc:  0.7600\n",
            "\n"
          ]
        },
        {
          "output_type": "stream",
          "name": "stderr",
          "text": [
            "100%|██████████| 500/500 [01:22<00:00,  6.02it/s]\n"
          ]
        },
        {
          "output_type": "stream",
          "name": "stdout",
          "text": [
            "Epoch: 13 - loss: 0.4876 - acc : 0.8314 - val_loss : 0.6200 - val_acc:  0.8200\n",
            "\n"
          ]
        },
        {
          "output_type": "stream",
          "name": "stderr",
          "text": [
            "100%|██████████| 500/500 [01:24<00:00,  5.95it/s]\n"
          ]
        },
        {
          "output_type": "stream",
          "name": "stdout",
          "text": [
            "Epoch: 14 - loss: 0.4999 - acc : 0.8310 - val_loss : 0.5777 - val_acc:  0.8900\n",
            "\n"
          ]
        },
        {
          "output_type": "stream",
          "name": "stderr",
          "text": [
            "100%|██████████| 500/500 [01:23<00:00,  5.97it/s]\n"
          ]
        },
        {
          "output_type": "stream",
          "name": "stdout",
          "text": [
            "Epoch: 15 - loss: 0.4477 - acc : 0.8469 - val_loss : 0.5570 - val_acc:  0.8700\n",
            "\n"
          ]
        }
      ]
    },
    {
      "cell_type": "code",
      "source": [],
      "metadata": {
        "id": "YBuPUF8vCXM2"
      },
      "execution_count": null,
      "outputs": []
    },
    {
      "cell_type": "code",
      "source": [],
      "metadata": {
        "id": "Zu4L0I3kENCZ"
      },
      "execution_count": null,
      "outputs": []
    },
    {
      "cell_type": "code",
      "source": [],
      "metadata": {
        "id": "-btD34jdENF-"
      },
      "execution_count": null,
      "outputs": []
    },
    {
      "cell_type": "code",
      "source": [],
      "metadata": {
        "id": "3eDY9V8kDvhr"
      },
      "execution_count": null,
      "outputs": []
    },
    {
      "cell_type": "code",
      "source": [],
      "metadata": {
        "id": "xXH0w9QyDvkW"
      },
      "execution_count": null,
      "outputs": []
    },
    {
      "cell_type": "code",
      "source": [],
      "metadata": {
        "id": "BRnBPuB1DvnO"
      },
      "execution_count": null,
      "outputs": []
    },
    {
      "cell_type": "code",
      "source": [],
      "metadata": {
        "id": "BB4qLIbcDvp9"
      },
      "execution_count": null,
      "outputs": []
    }
  ]
}